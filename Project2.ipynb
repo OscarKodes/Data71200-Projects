{
 "cells": [
  {
   "cell_type": "markdown",
   "id": "3229fa92",
   "metadata": {},
   "source": [
    "### Oscar Ko - Data 71200\n",
    "\n",
    "---\n",
    "\n",
    "# PROJECT 2: Supervised Learning\n",
    "\n",
    "---"
   ]
  },
  {
   "cell_type": "markdown",
   "id": "d6ada177",
   "metadata": {},
   "source": [
    "Data from https://www.kaggle.com/datasets/mathchi/diabetes-data-set\n",
    "\n",
    "This dataset is originally from the National Institute of Diabetes and Digestive and Kidney Diseases.\n",
    "\n",
    "Several constraints were placed on the selection of these instances from a larger database. In particular, all patients here are females at least 21 years old of Pima Indian heritage.\n",
    "\n",
    "- **Pregnancies**: Number of times pregnant\n",
    "- **Glucose**: Plasma glucose concentration a 2 hours in an oral glucose tolerance test\n",
    "- **BloodPressure**: Diastolic blood pressure (mm Hg)\n",
    "- **SkinThickness**: Triceps skin fold thickness (mm)\n",
    "- **Insulin**: 2-Hour serum insulin (mu U/ml)\n",
    "- **BMI**: Body mass index (weight in kg/(height in m)^2)\n",
    "- **DiabetesPedigreeFunction**: Value based on a function that scores likelihood of diabetes based on family history\n",
    "- **Age**: Age (years)\n",
    "- **Outcome**: Class variable (0 or 1)"
   ]
  },
  {
   "cell_type": "markdown",
   "id": "8680a24b",
   "metadata": {},
   "source": [
    "---\n",
    "\n",
    "# Step 1: Load Data & Testing-Training Split from Project 1"
   ]
  },
  {
   "cell_type": "markdown",
   "id": "e69ae90d",
   "metadata": {},
   "source": [
    "### Import Packages & Data"
   ]
  },
  {
   "cell_type": "code",
   "execution_count": 6,
   "id": "9d642902",
   "metadata": {},
   "outputs": [
    {
     "data": {
      "text/html": [
       "<div>\n",
       "<style scoped>\n",
       "    .dataframe tbody tr th:only-of-type {\n",
       "        vertical-align: middle;\n",
       "    }\n",
       "\n",
       "    .dataframe tbody tr th {\n",
       "        vertical-align: top;\n",
       "    }\n",
       "\n",
       "    .dataframe thead th {\n",
       "        text-align: right;\n",
       "    }\n",
       "</style>\n",
       "<table border=\"1\" class=\"dataframe\">\n",
       "  <thead>\n",
       "    <tr style=\"text-align: right;\">\n",
       "      <th></th>\n",
       "      <th>Pregnancies</th>\n",
       "      <th>Glucose</th>\n",
       "      <th>BloodPressure</th>\n",
       "      <th>SkinThickness</th>\n",
       "      <th>Insulin</th>\n",
       "      <th>BMI</th>\n",
       "      <th>DiabetesPedigreeFunction</th>\n",
       "      <th>Age</th>\n",
       "      <th>Outcome</th>\n",
       "    </tr>\n",
       "  </thead>\n",
       "  <tbody>\n",
       "    <tr>\n",
       "      <th>0</th>\n",
       "      <td>6</td>\n",
       "      <td>148</td>\n",
       "      <td>72</td>\n",
       "      <td>35</td>\n",
       "      <td>0</td>\n",
       "      <td>33.6</td>\n",
       "      <td>0.627</td>\n",
       "      <td>50</td>\n",
       "      <td>1</td>\n",
       "    </tr>\n",
       "    <tr>\n",
       "      <th>1</th>\n",
       "      <td>1</td>\n",
       "      <td>85</td>\n",
       "      <td>66</td>\n",
       "      <td>29</td>\n",
       "      <td>0</td>\n",
       "      <td>26.6</td>\n",
       "      <td>0.351</td>\n",
       "      <td>31</td>\n",
       "      <td>0</td>\n",
       "    </tr>\n",
       "    <tr>\n",
       "      <th>2</th>\n",
       "      <td>8</td>\n",
       "      <td>183</td>\n",
       "      <td>64</td>\n",
       "      <td>0</td>\n",
       "      <td>0</td>\n",
       "      <td>23.3</td>\n",
       "      <td>0.672</td>\n",
       "      <td>32</td>\n",
       "      <td>1</td>\n",
       "    </tr>\n",
       "    <tr>\n",
       "      <th>3</th>\n",
       "      <td>1</td>\n",
       "      <td>89</td>\n",
       "      <td>66</td>\n",
       "      <td>23</td>\n",
       "      <td>94</td>\n",
       "      <td>28.1</td>\n",
       "      <td>0.167</td>\n",
       "      <td>21</td>\n",
       "      <td>0</td>\n",
       "    </tr>\n",
       "    <tr>\n",
       "      <th>4</th>\n",
       "      <td>0</td>\n",
       "      <td>137</td>\n",
       "      <td>40</td>\n",
       "      <td>35</td>\n",
       "      <td>168</td>\n",
       "      <td>43.1</td>\n",
       "      <td>2.288</td>\n",
       "      <td>33</td>\n",
       "      <td>1</td>\n",
       "    </tr>\n",
       "  </tbody>\n",
       "</table>\n",
       "</div>"
      ],
      "text/plain": [
       "   Pregnancies  Glucose  BloodPressure  SkinThickness  Insulin   BMI  \\\n",
       "0            6      148             72             35        0  33.6   \n",
       "1            1       85             66             29        0  26.6   \n",
       "2            8      183             64              0        0  23.3   \n",
       "3            1       89             66             23       94  28.1   \n",
       "4            0      137             40             35      168  43.1   \n",
       "\n",
       "   DiabetesPedigreeFunction  Age  Outcome  \n",
       "0                     0.627   50        1  \n",
       "1                     0.351   31        0  \n",
       "2                     0.672   32        1  \n",
       "3                     0.167   21        0  \n",
       "4                     2.288   33        1  "
      ]
     },
     "execution_count": 6,
     "metadata": {},
     "output_type": "execute_result"
    }
   ],
   "source": [
    "%matplotlib inline\n",
    "import matplotlib.pyplot as plt\n",
    "import numpy as np\n",
    "import pandas as pd\n",
    "\n",
    "import warnings\n",
    "warnings.filterwarnings('ignore')\n",
    "\n",
    "original_data = pd.read_csv(\"data/diabetes.csv\")\n",
    "\n",
    "original_data.head()"
   ]
  },
  {
   "cell_type": "markdown",
   "id": "f6cc67a1",
   "metadata": {},
   "source": [
    "### Train-Test Split Stratified"
   ]
  },
  {
   "cell_type": "code",
   "execution_count": 7,
   "id": "a42cdd12",
   "metadata": {},
   "outputs": [
    {
     "name": "stdout",
     "output_type": "stream",
     "text": [
      "X_train.shape =  (614, 8)\n",
      "X_test.shape =  (154, 8)\n",
      "y_train.shape =  (614,)\n",
      "y_test.shape =  (154,)\n",
      "\n",
      "\n",
      "y_train class proportions: \n",
      " 0    0.651466\n",
      "1    0.348534\n",
      "Name: Outcome, dtype: float64\n",
      "\n",
      "\n",
      "y_test class proportions: \n",
      " 0    0.649351\n",
      "1    0.350649\n",
      "Name: Outcome, dtype: float64\n"
     ]
    }
   ],
   "source": [
    "# import package\n",
    "from sklearn.model_selection import train_test_split\n",
    "\n",
    "\n",
    "# declare our X inputs and y outcomes\n",
    "X = original_data.drop(\"Outcome\", axis=1)\n",
    "y = original_data[\"Outcome\"]\n",
    "\n",
    "\n",
    "# stratify split\n",
    "X_train, X_test, y_train, y_test = train_test_split(X, \n",
    "                                                    y,\n",
    "                                                    stratify=y, \n",
    "                                                    test_size=0.2,\n",
    "                                                    random_state=42)\n",
    "\n",
    "print(\"X_train.shape = \", X_train.shape)\n",
    "print(\"X_test.shape = \", X_test.shape)\n",
    "\n",
    "print(\"y_train.shape = \", y_train.shape)\n",
    "print(\"y_test.shape = \", y_test.shape)\n",
    "\n",
    "print(\"\\n\")\n",
    "print(\"y_train class proportions: \\n\", y_train.value_counts(normalize=True))\n",
    "\n",
    "print(\"\\n\")\n",
    "print(\"y_test class proportions: \\n\", y_test.value_counts(normalize=True))"
   ]
  },
  {
   "cell_type": "markdown",
   "id": "1e3e15a8",
   "metadata": {},
   "source": [
    "---\n",
    "\n",
    "**Self Notes:**\n",
    "\n",
    "I was a bit confused about the two methods of stratifying. \n",
    "\n",
    "I found a great explanation here: https://stackoverflow.com/questions/61299828/stratify-argument-in-train-test-split-vs-stratifiedshufflesplit\n",
    "\n",
    "\n",
    "- *Train-Test Split Stratified* and *Stratified Shuffle Split* can both produce balanced splits.\n",
    "\n",
    "\n",
    "- Train-Test Split Stratified is for creating distinct subsets from the data.\n",
    "\n",
    "\n",
    "- Stratified Shuffle Splits is typically used with Cross Validation. \n",
    "\n",
    "\n",
    "- Instead of having Cross Validation make its own folds, we have an instance of StratifiedShuffleSplit create folds that are balanced and shuffled.\n",
    "\n",
    "\n",
    "---"
   ]
  },
  {
   "cell_type": "markdown",
   "id": "6fd3fd91",
   "metadata": {},
   "source": [
    "### Data Cleaning"
   ]
  },
  {
   "cell_type": "code",
   "execution_count": 10,
   "id": "4d742a0e",
   "metadata": {
    "scrolled": true
   },
   "outputs": [
    {
     "name": "stdout",
     "output_type": "stream",
     "text": [
      "X_train.shape =  (583, 7)\n",
      "X_test.shape =  (141, 7)\n",
      "y_train.shape =  (583, 1)\n",
      "y_test.shape =  (141, 1)\n",
      "\n",
      "\n",
      "y_train class proportions: \n",
      " Outcome\n",
      "0          0.656947\n",
      "1          0.343053\n",
      "dtype: float64\n",
      "\n",
      "\n",
      "y_test class proportions: \n",
      " Outcome\n",
      "0          0.652482\n",
      "1          0.347518\n",
      "dtype: float64\n"
     ]
    }
   ],
   "source": [
    "# create function with all cleaning steps\n",
    "def clean_set(X_data, y_data):\n",
    "    \n",
    "    zero_g = X_data[\"Glucose\"] == 0\n",
    "    zero_bmi = X_data[\"BMI\"] == 0\n",
    "    zero_bp = X_data[\"BloodPressure\"] == 0\n",
    "    \n",
    "    # get index of cases with 0 Glucose, BMI, or Blood Pressure\n",
    "    indexes_to_remove = (zero_g | zero_bmi | zero_bp)\n",
    "    \n",
    "    # remove the zero cases\n",
    "    X_data = X_data[~indexes_to_remove]\n",
    "    y_data = y_data[~indexes_to_remove]\n",
    "    \n",
    "    # remove SkinThickness column\n",
    "    X_data = X_data.drop(\"SkinThickness\", axis=1)\n",
    "    \n",
    "    return X_data, pd.DataFrame(y_data)\n",
    "\n",
    "\n",
    "# clean all the train and test sets together\n",
    "X_train, y_train = clean_set(X_train, y_train)\n",
    "X_test, y_test = clean_set(X_test, y_test)\n",
    "\n",
    "\n",
    "print(\"X_train.shape = \", X_train.shape)\n",
    "print(\"X_test.shape = \", X_test.shape)\n",
    "\n",
    "print(\"y_train.shape = \", y_train.shape)\n",
    "print(\"y_test.shape = \", y_test.shape)\n",
    "\n",
    "print(\"\\n\")\n",
    "print(\"y_train class proportions: \\n\", y_train.value_counts(normalize=True))\n",
    "\n",
    "print(\"\\n\")\n",
    "print(\"y_test class proportions: \\n\", y_test.value_counts(normalize=True))"
   ]
  },
  {
   "cell_type": "markdown",
   "id": "a5d78996",
   "metadata": {},
   "source": [
    "---\n",
    "\n",
    "# Step 2: Prepare your data"
   ]
  },
  {
   "cell_type": "markdown",
   "id": "4bbdc8f3",
   "metadata": {},
   "source": [
    "### Check Unscaled Feature Min, Max, and Range"
   ]
  },
  {
   "cell_type": "code",
   "execution_count": 17,
   "id": "e56c32bb",
   "metadata": {},
   "outputs": [
    {
     "name": "stdout",
     "output_type": "stream",
     "text": [
      "Minimum for each feature\n",
      " Pregnancies                  0.000\n",
      "Glucose                     56.000\n",
      "BloodPressure               24.000\n",
      "Insulin                      0.000\n",
      "BMI                         18.200\n",
      "DiabetesPedigreeFunction     0.084\n",
      "Age                         21.000\n",
      "dtype: float64\n",
      "Maximum for each feature\n",
      " Pregnancies                  17.000\n",
      "Glucose                     199.000\n",
      "BloodPressure               122.000\n",
      "Insulin                     744.000\n",
      "BMI                          67.100\n",
      "DiabetesPedigreeFunction      2.329\n",
      "Age                          81.000\n",
      "dtype: float64\n"
     ]
    },
    {
     "data": {
      "text/plain": [
       "Text(0, 0.5, 'Feature magnitude')"
      ]
     },
     "execution_count": 17,
     "metadata": {},
     "output_type": "execute_result"
    },
    {
     "data": {
      "image/png": "[encoded data removed]",
      "text/plain": [
       "<Figure size 432x288 with 1 Axes>"
      ]
     },
     "metadata": {
      "needs_background": "light"
     },
     "output_type": "display_data"
    }
   ],
   "source": [
    "# CHECK THE MINIMUM AND MAXIMUM VALUES ------------\n",
    "\n",
    "print(\"Minimum for each feature\\n\", X_train.min(axis=0))\n",
    "print(\"Maximum for each feature\\n\", X_train.max(axis=0))\n",
    "\n",
    "\n",
    "# CHECK THE RANGES WITH BOXPLOT -------------------\n",
    "\n",
    "plt.boxplot(X_train)\n",
    "\n",
    "# using a logarithmic scale for the y-axis\n",
    "plt.yscale(\"symlog\")\n",
    "\n",
    "# label axes\n",
    "plt.xlabel(\"Feature index\")\n",
    "plt.ylabel(\"Feature magnitude\")"
   ]
  },
  {
   "cell_type": "markdown",
   "id": "c1300004",
   "metadata": {},
   "source": [
    "### Feature Scaling"
   ]
  },
  {
   "cell_type": "code",
   "execution_count": 18,
   "id": "5a5ac214",
   "metadata": {
    "scrolled": false
   },
   "outputs": [
    {
     "name": "stdout",
     "output_type": "stream",
     "text": [
      "Minimum for each feature\n",
      " Pregnancies                 0.0\n",
      "Glucose                     0.0\n",
      "BloodPressure               0.0\n",
      "Insulin                     0.0\n",
      "BMI                         0.0\n",
      "DiabetesPedigreeFunction    0.0\n",
      "Age                         0.0\n",
      "dtype: float64\n",
      "Maximum for each feature\n",
      " Pregnancies                 1.0\n",
      "Glucose                     1.0\n",
      "BloodPressure               1.0\n",
      "Insulin                     1.0\n",
      "BMI                         1.0\n",
      "DiabetesPedigreeFunction    1.0\n",
      "Age                         1.0\n",
      "dtype: float64\n"
     ]
    },
    {
     "data": {
      "text/plain": [
       "Text(0, 0.5, 'Feature magnitude')"
      ]
     },
     "execution_count": 18,
     "metadata": {},
     "output_type": "execute_result"
    },
    {
     "data": {
      "image/png": "[encoded data removed]",
      "text/plain": [
       "<Figure size 432x288 with 1 Axes>"
      ]
     },
     "metadata": {
      "needs_background": "light"
     },
     "output_type": "display_data"
    }
   ],
   "source": [
    "# FEATURE SCALING ON X_train and X_test ----------------------------------\n",
    "\n",
    "# Compute the minimum value per feature on the training set\n",
    "min_on_training = X_train.min(axis=0)\n",
    "\n",
    "# Compute the range of each feature (max - min) on the training set\n",
    "range_on_training = (X_train - min_on_training).max(axis=0)\n",
    "\n",
    "# subtract the min, divide by range\n",
    "X_train_scaled = (X_train - min_on_training) / range_on_training\n",
    "    \n",
    "# use THE SAME transformation on the test set\n",
    "X_test_scaled = (X_test - min_on_training) / range_on_training\n",
    "\n",
    "\n",
    "# CHECK THE MINIMUM AND MAXIMUM VALUES ------------\n",
    "\n",
    "print(\"Minimum for each feature\\n\", X_train_scaled.min(axis=0))\n",
    "print(\"Maximum for each feature\\n\", X_train_scaled.max(axis=0))\n",
    "\n",
    "\n",
    "# CHECK THE RANGES WITH BOXPLOT -------------------\n",
    "\n",
    "plt.boxplot(X_train_scaled)\n",
    "\n",
    "# using a logarithmic scale for the y-axis\n",
    "plt.yscale(\"symlog\")\n",
    "\n",
    "# label axes\n",
    "plt.xlabel(\"Feature index\")\n",
    "plt.ylabel(\"Feature magnitude\")"
   ]
  },
  {
   "cell_type": "markdown",
   "id": "524c484c",
   "metadata": {},
   "source": [
    "### Deal with Categorical Features\n",
    "\n",
    "The features in the dataset are all continuous, so no encoding is necessary."
   ]
  },
  {
   "cell_type": "markdown",
   "id": "da4f3603",
   "metadata": {},
   "source": [
    "---\n",
    "\n",
    "# Step 3: Examine your target attribute"
   ]
  },
  {
   "cell_type": "markdown",
   "id": "e032da3f",
   "metadata": {},
   "source": [
    "### Rename target attribute\n",
    "\n",
    "The target attribute is a binary feature named \"Outcome.\"\n",
    "\n",
    "I will rename it to \"hasDiabetes\" to be a little more intuitive. "
   ]
  },
  {
   "cell_type": "code",
   "execution_count": 22,
   "id": "859ca73a",
   "metadata": {},
   "outputs": [
    {
     "name": "stdout",
     "output_type": "stream",
     "text": [
      "Index(['hasDiabetes'], dtype='object')\n",
      "Index(['hasDiabetes'], dtype='object')\n"
     ]
    }
   ],
   "source": [
    "y_train.rename(columns={'Outcome':'hasDiabetes'}, inplace=True)\n",
    "y_test.rename(columns={'Outcome':'hasDiabetes'}, inplace=True)\n",
    "\n",
    "print(y_train.columns)\n",
    "print(y_test.columns)"
   ]
  },
  {
   "cell_type": "markdown",
   "id": "c565268c",
   "metadata": {},
   "source": [
    "### Convert from integer to string\n",
    "\n",
    "So the visualization's axis won't bother with values between 0 and 1."
   ]
  },
  {
   "cell_type": "code",
   "execution_count": 23,
   "id": "a1e7bc50",
   "metadata": {},
   "outputs": [
    {
     "name": "stdout",
     "output_type": "stream",
     "text": [
      "object\n",
      "object\n"
     ]
    }
   ],
   "source": [
    "y_train[\"hasDiabetes\"] = y_train[\"hasDiabetes\"].astype(str)\n",
    "y_test[\"hasDiabetes\"] = y_test[\"hasDiabetes\"].astype(str)\n",
    "\n",
    "print(y_train[\"hasDiabetes\"].dtype)\n",
    "print(y_test[\"hasDiabetes\"].dtype)"
   ]
  },
  {
   "cell_type": "markdown",
   "id": "5e2bb2e2",
   "metadata": {},
   "source": [
    "### Plot Target Attribute\n",
    "\n",
    "(As the target attribute is binary, I used a bar chart instead of a histogram.)"
   ]
  },
  {
   "cell_type": "code",
   "execution_count": 24,
   "id": "b934d38b",
   "metadata": {},
   "outputs": [
    {
     "data": {
      "text/plain": [
       "Text(0.5, 1.0, 'Has Diabetes')"
      ]
     },
     "execution_count": 24,
     "metadata": {},
     "output_type": "execute_result"
    },
    {
     "data": {
      "image/png": "[encoded data removed]",
      "text/plain": [
       "<Figure size 432x288 with 1 Axes>"
      ]
     },
     "metadata": {
      "needs_background": "light"
     },
     "output_type": "display_data"
    }
   ],
   "source": [
    "plt.bar(y_train[\"hasDiabetes\"].unique(), y_train[\"hasDiabetes\"].value_counts())\n",
    "\n",
    "plt.title(\"Has Diabetes\")"
   ]
  },
  {
   "cell_type": "markdown",
   "id": "15f71fae",
   "metadata": {},
   "source": [
    "---\n",
    "\n",
    "# Algorithm 1: K Nearest Neighbors"
   ]
  },
  {
   "cell_type": "markdown",
   "id": "2c00aa63",
   "metadata": {},
   "source": [
    "### Stratified Shuffle-Split Cross-Validation (Default KNN)"
   ]
  },
  {
   "cell_type": "code",
   "execution_count": 26,
   "id": "6807d715",
   "metadata": {
    "scrolled": true
   },
   "outputs": [
    {
     "name": "stdout",
     "output_type": "stream",
     "text": [
      "Each cv_score: [0.72649573 0.74358974 0.74358974 0.73504274 0.71794872]\n",
      "\n",
      "Mean of cv_scores: 0.7333333333333334\n"
     ]
    }
   ],
   "source": [
    "# Create instance of StratifiedShuffleSplit ----------------------------------------\n",
    "\n",
    "from sklearn.model_selection import StratifiedShuffleSplit\n",
    "\n",
    "sss = StratifiedShuffleSplit(n_splits=5,\n",
    "                               test_size=0.2, \n",
    "                               random_state=42)\n",
    "\n",
    "\n",
    "# Create instance of KNN Classifier -------------------------------------------------\n",
    "\n",
    "from sklearn.neighbors import KNeighborsClassifier\n",
    "\n",
    "KNN = KNeighborsClassifier()\n",
    "\n",
    "\n",
    "# Use Cross-Validation with KNN and Stratified-Shuffle Splits (on train set) ----------\n",
    "\n",
    "from sklearn.model_selection import cross_val_score\n",
    "\n",
    "cv_scores = cross_val_score(KNN, X_train_scaled, y_train, cv=sss)\n",
    "\n",
    "print(\"Each cv_score: {}\\n\".format(cv_scores))\n",
    "print(\"Mean of cv_scores: {}\".format(np.mean(cv_scores)))"
   ]
  },
  {
   "cell_type": "markdown",
   "id": "9cafc33a",
   "metadata": {},
   "source": [
    "### Evaluation Metrics (Default KNN)"
   ]
  },
  {
   "cell_type": "markdown",
   "id": "fabd23ba",
   "metadata": {},
   "source": [
    "(Creating a function for confusion matrix and evaluation metrics for convenience)"
   ]
  },
  {
   "cell_type": "code",
   "execution_count": 27,
   "id": "26376a87",
   "metadata": {
    "scrolled": false
   },
   "outputs": [
    {
     "name": "stdout",
     "output_type": "stream",
     "text": [
      "Confusion matrix:\n",
      "[[78 14]\n",
      " [27 22]]\n",
      "              precision    recall  f1-score   support\n",
      "\n",
      " No diabetes       0.74      0.85      0.79        92\n",
      "Has diabetes       0.61      0.45      0.52        49\n",
      "\n",
      "    accuracy                           0.71       141\n",
      "   macro avg       0.68      0.65      0.65       141\n",
      "weighted avg       0.70      0.71      0.70       141\n",
      "\n"
     ]
    }
   ],
   "source": [
    "# Train default KNN model and make predictions on training set -------\n",
    "\n",
    "KNN.fit(X_train_scaled, y_train)\n",
    "\n",
    "y_pred = KNN.predict(X_test_scaled)\n",
    "\n",
    "\n",
    "# Confusion Matrix --------------------------------------------------\n",
    "\n",
    "from sklearn.metrics import confusion_matrix\n",
    "\n",
    "confusion = confusion_matrix(y_test, y_pred)\n",
    "\n",
    "print(\"Confusion matrix:\\n{}\".format(confusion))\n",
    "\n",
    "\n",
    "# Precision, Recall, and f1-score ------------------------------------\n",
    "\n",
    "from sklearn.metrics import classification_report\n",
    "\n",
    "print(classification_report(y_test, \n",
    "                            y_pred,\n",
    "                            target_names=[\"No diabetes\", \"Has diabetes\"]))"
   ]
  },
  {
   "cell_type": "markdown",
   "id": "bc6e16a5",
   "metadata": {},
   "source": [
    "### GridSearchCV (KNN)"
   ]
  },
  {
   "cell_type": "code",
   "execution_count": 28,
   "id": "7224e1db",
   "metadata": {},
   "outputs": [
    {
     "name": "stdout",
     "output_type": "stream",
     "text": [
      "best params:\n",
      "\n",
      " {'algorithm': 'auto', 'metric': 'manhattan', 'n_neighbors': 19, 'weights': 'distance'}\n",
      "\n",
      "best score:\n",
      "\n",
      " 0.7872531682876511 \n",
      "\n",
      "\n"
     ]
    }
   ],
   "source": [
    "# CONDUCT GRID SEARCH ---------------------------\n",
    "\n",
    "from sklearn.model_selection import GridSearchCV\n",
    "\n",
    "# dictionary of parameters to search\n",
    "param_grid = {\"n_neighbors\": np.arange(1, 25),\n",
    "             \"metric\": [\"euclidean\", \"manhattan\", \"minkowski\", \"cosine\"],\n",
    "             \"algorithm\": [\"auto\", \"ball_tree\", \"kd_tree\", \"brute\"],\n",
    "             \"weights\": [\"uniform\", \"distance\"]}\n",
    "\n",
    "# grid search on all values of k in dictionary\n",
    "KNN_gscv = GridSearchCV(KNN, param_grid, cv=5)\n",
    "\n",
    "KNN_gscv.fit(X_train_scaled, y_train)\n",
    "\n",
    "\n",
    "# PRINT RESULTS ---------------------------\n",
    "\n",
    "# best performing k (on training set)\n",
    "print(\"best params:\\n\\n\", KNN_gscv.best_params_)\n",
    "\n",
    "# accuracy of best performing k\n",
    "\n",
    "print(\"\\nbest score:\\n\\n\", KNN_gscv.best_score_, \"\\n\\n\")"
   ]
  },
  {
   "cell_type": "markdown",
   "id": "5f83054d",
   "metadata": {},
   "source": [
    "### Stratified Shuffle-Split Cross-Validation (KNN Best Params)"
   ]
  },
  {
   "cell_type": "code",
   "execution_count": 29,
   "id": "d75934b5",
   "metadata": {},
   "outputs": [
    {
     "name": "stdout",
     "output_type": "stream",
     "text": [
      "Mean of cross validation scores (train set) - Default KNN: 0.7333333333333334\n",
      "\n",
      "Mean of cross validation scores (train set)  - KNN with Best Params: 0.7401709401709402\n",
      "\n",
      "\n"
     ]
    }
   ],
   "source": [
    "# Create instance of StratifiedShuffleSplit ----------------------------------------\n",
    "\n",
    "from sklearn.model_selection import StratifiedShuffleSplit\n",
    "\n",
    "sss = StratifiedShuffleSplit(n_splits=5,\n",
    "                               test_size=0.2, \n",
    "                               random_state=42)\n",
    "\n",
    "\n",
    "# CREATE KNN with BEST PARAMS -----------------------------------------\n",
    "\n",
    "from sklearn.neighbors import KNeighborsClassifier\n",
    "\n",
    "KNN2 = KNeighborsClassifier(algorithm='auto',\n",
    "                            metric='manhattan',\n",
    "                            n_neighbors=19,\n",
    "                            weights='distance')\n",
    "\n",
    "\n",
    "# CROSS-VALIDATION and Stratified-Shuffle Splits (on training set) ----------------------------------\n",
    "\n",
    "from sklearn.model_selection import cross_val_score\n",
    "\n",
    "cv_scores2 = cross_val_score(KNN2, X_train_scaled, y_train, cv=sss)\n",
    "\n",
    "\n",
    "\n",
    "# COMPARE KNN Models --------------------------------------------------\n",
    "\n",
    "print(\"Mean of cross validation scores (train set) - Default KNN: {}\\n\".format(np.mean(cv_scores)))\n",
    "print(\"Mean of cross validation scores (train set)  - KNN with Best Params: {}\\n\\n\".format(np.mean(cv_scores2)))"
   ]
  },
  {
   "cell_type": "markdown",
   "id": "5ab6b2cf",
   "metadata": {},
   "source": [
    "### Confusion Matrix & Evaluation Metrics (KNN Best Params)"
   ]
  },
  {
   "cell_type": "code",
   "execution_count": 32,
   "id": "75a0cf47",
   "metadata": {},
   "outputs": [
    {
     "name": "stdout",
     "output_type": "stream",
     "text": [
      "Default KNN - Confusion matrix:\n",
      "\n",
      "[[78 14]\n",
      " [27 22]]\n",
      "\n",
      "KNN with Best Params - Confusion matrix:\n",
      "\n",
      "[[81 11]\n",
      " [23 26]]\n",
      "\n",
      "\n",
      "Default KNN - Evaluation Metrics\n",
      "\n",
      "                  precision    recall  f1-score   support\n",
      "\n",
      " No diabetes - 0       0.74      0.85      0.79        92\n",
      "Has diabetes - 1       0.61      0.45      0.52        49\n",
      "\n",
      "        accuracy                           0.71       141\n",
      "       macro avg       0.68      0.65      0.65       141\n",
      "    weighted avg       0.70      0.71      0.70       141\n",
      "\n",
      "\n",
      "KNN with Best Params - Evaluation Metrics\n",
      "\n",
      "                  precision    recall  f1-score   support\n",
      "\n",
      " No diabetes - 0       0.78      0.88      0.83        92\n",
      "Has diabetes - 1       0.70      0.53      0.60        49\n",
      "\n",
      "        accuracy                           0.76       141\n",
      "       macro avg       0.74      0.71      0.72       141\n",
      "    weighted avg       0.75      0.76      0.75       141\n",
      "\n"
     ]
    }
   ],
   "source": [
    "# Train model and make predictions on testing set ------------\n",
    "\n",
    "KNN2.fit(X_train_scaled, y_train)\n",
    "\n",
    "y_pred2 = KNN2.predict(X_test_scaled)\n",
    "\n",
    "\n",
    "# CONFUSION MATRIX --------------------------------------------------\n",
    "\n",
    "from sklearn.metrics import confusion_matrix\n",
    "\n",
    "confusion2 = confusion_matrix(y_test, y_pred2)\n",
    "\n",
    "print(\"Default KNN - Confusion matrix:\\n\\n{}\\n\".format(confusion))\n",
    "print(\"KNN with Best Params - Confusion matrix:\\n\\n{}\\n\\n\".format(confusion2))\n",
    "\n",
    "\n",
    "# EVALUATION METRICS ------------------------------------\n",
    "\n",
    "from sklearn.metrics import classification_report\n",
    "\n",
    "print(\"Default KNN - Evaluation Metrics\\n\")\n",
    "print(classification_report(y_test, \n",
    "                            y_pred,\n",
    "                            target_names=[\"No diabetes - 0\", \"Has diabetes - 1\"]))\n",
    "\n",
    "print(\"\\nKNN with Best Params - Evaluation Metrics\\n\")\n",
    "print(classification_report(y_test, \n",
    "                            y_pred2,\n",
    "                            target_names=[\"No diabetes - 0\", \"Has diabetes - 1\"]))"
   ]
  },
  {
   "cell_type": "markdown",
   "id": "9d5355e3",
   "metadata": {},
   "source": [
    "**Notes:**\n",
    "    \n",
    "    \n",
    "In all areas, KNN improved with the optimized parameters!\n",
    "\n",
    "There's higher correct predictions and lower incorrect predictions.\n",
    "\n",
    "The optimized model even predicted the training set better than the default model.\n",
    "\n",
    "Maybe since KNN is a simple algorithm, it benefits greatly from optimization. (That idea is in contrast to what happens with the Support Vector Machine models below.)\n",
    "    "
   ]
  },
  {
   "cell_type": "markdown",
   "id": "ade4394c",
   "metadata": {},
   "source": [
    "---\n",
    "\n",
    "# Algorithm 2: Support Vector Machine"
   ]
  },
  {
   "cell_type": "markdown",
   "id": "a40892b7",
   "metadata": {},
   "source": [
    "### Stratified Shuffle-Split Cross-Validation (Default SVM)"
   ]
  },
  {
   "cell_type": "code",
   "execution_count": 48,
   "id": "a8525c87",
   "metadata": {},
   "outputs": [
    {
     "name": "stdout",
     "output_type": "stream",
     "text": [
      "Each cv_score: [0.77777778 0.78632479 0.78632479 0.77777778 0.77777778]\n",
      "\n",
      "Mean of cv_scores: 0.7811965811965812\n"
     ]
    }
   ],
   "source": [
    "# Create instance of StratifiedShuffleSplit ----------------------------------------\n",
    "\n",
    "from sklearn.model_selection import StratifiedShuffleSplit\n",
    "\n",
    "sss = StratifiedShuffleSplit(n_splits=5,\n",
    "                               test_size=0.2, \n",
    "                               random_state=42)\n",
    "\n",
    "\n",
    "# Create instance of SVM Classifier -------------------\n",
    "\n",
    "from sklearn.svm import SVC\n",
    "\n",
    "SVM = SVC()\n",
    "\n",
    "\n",
    "# Use Cross-Validation with SVM and Stratified-Shuffle Splits (on train set) ----------\n",
    "\n",
    "from sklearn.model_selection import cross_val_score\n",
    "\n",
    "cv_scores = cross_val_score(SVM, X_train_scaled, y_train, cv=sss)\n",
    "\n",
    "print(\"Each cv_score: {}\\n\".format(cv_scores))\n",
    "print(\"Mean of cv_scores: {}\".format(np.mean(cv_scores)))"
   ]
  },
  {
   "cell_type": "markdown",
   "id": "bc5da9df",
   "metadata": {},
   "source": [
    "### Evaluation Metrics (Default SVM)"
   ]
  },
  {
   "cell_type": "code",
   "execution_count": 49,
   "id": "e5b7501f",
   "metadata": {
    "scrolled": false
   },
   "outputs": [
    {
     "name": "stdout",
     "output_type": "stream",
     "text": [
      "Confusion matrix:\n",
      "[[76 16]\n",
      " [23 26]]\n",
      "              precision    recall  f1-score   support\n",
      "\n",
      " No diabetes       0.77      0.83      0.80        92\n",
      "Has diabetes       0.62      0.53      0.57        49\n",
      "\n",
      "    accuracy                           0.72       141\n",
      "   macro avg       0.69      0.68      0.68       141\n",
      "weighted avg       0.72      0.72      0.72       141\n",
      "\n"
     ]
    }
   ],
   "source": [
    "# Train default model and make predictions on training set -------\n",
    "\n",
    "SVM.fit(X_train_scaled, y_train)\n",
    "\n",
    "y_pred = SVM.predict(X_test_scaled)\n",
    "\n",
    "\n",
    "# Confusion Matrix --------------------------------------------------\n",
    "\n",
    "from sklearn.metrics import confusion_matrix\n",
    "\n",
    "confusion = confusion_matrix(y_test, y_pred)\n",
    "\n",
    "print(\"Confusion matrix:\\n{}\".format(confusion))\n",
    "\n",
    "\n",
    "# Precision, Recall, and f1-score ------------------------------------\n",
    "\n",
    "from sklearn.metrics import classification_report\n",
    "\n",
    "print(classification_report(y_test, \n",
    "                            y_pred,\n",
    "                            target_names=[\"No diabetes\", \"Has diabetes\"]))"
   ]
  },
  {
   "cell_type": "markdown",
   "id": "4b3067a6",
   "metadata": {},
   "source": [
    "### GridSearchCV (SVM)"
   ]
  },
  {
   "cell_type": "code",
   "execution_count": 51,
   "id": "47ffeb0a",
   "metadata": {
    "scrolled": false
   },
   "outputs": [
    {
     "name": "stdout",
     "output_type": "stream",
     "text": [
      "best params:\n",
      "\n",
      " {'C': 100, 'gamma': 'scale', 'kernel': 'linear'}\n",
      "\n",
      "best score:\n",
      "\n",
      " 0.7890509873268494\n"
     ]
    }
   ],
   "source": [
    "# CONDUCT GRID SEARCH ---------------------------\n",
    "\n",
    "from sklearn.model_selection import GridSearchCV\n",
    "\n",
    "# dictionary of parameters to search\n",
    "param_grid = {\"C\": [1, 10, 100, 1000],\n",
    "             \"gamma\": [\"scale\", 0.1, 1],\n",
    "             \"kernel\": [\"rbf\", \"linear\", \"sigmoid\", \"poly\"]}\n",
    "\n",
    "\n",
    "# grid search on all values of k in dictionary\n",
    "SVM_gscv = GridSearchCV(SVM, param_grid, cv=5)\n",
    "\n",
    "SVM_gscv.fit(X_train_scaled, y_train)\n",
    "\n",
    "\n",
    "# PRINT RESULTS ---------------------------\n",
    "\n",
    "# best performing params (on training set)\n",
    "print(\"best params:\\n\\n\", SVM_gscv.best_params_)\n",
    "\n",
    "# accuracy of best performing params\n",
    "print(\"\\nbest score:\\n\\n\", SVM_gscv.best_score_)"
   ]
  },
  {
   "cell_type": "markdown",
   "id": "07732260",
   "metadata": {},
   "source": [
    "---\n",
    "\n",
    "**Notes:**\n",
    "    \n",
    "The optimal kernel type is linear.\n",
    "\n",
    "Maybe this is a hint that a simple linear model could have performed better!\n",
    "\n",
    "---"
   ]
  },
  {
   "cell_type": "markdown",
   "id": "fe603440",
   "metadata": {},
   "source": [
    "\n",
    "### Stratified Shuffle-Split Cross-Validation (SVM Best Params)"
   ]
  },
  {
   "cell_type": "code",
   "execution_count": 52,
   "id": "c2a02a6c",
   "metadata": {},
   "outputs": [
    {
     "name": "stdout",
     "output_type": "stream",
     "text": [
      "Mean of cross validation scores (train set) - Default SVM: 0.7811965811965812\n",
      "\n",
      "Mean of cross validation scores (train set)  - SVM with Best Params: 0.7948717948717949\n",
      "\n",
      "\n"
     ]
    }
   ],
   "source": [
    "# Create instance of StratifiedShuffleSplit ----------------------------------------\n",
    "\n",
    "from sklearn.model_selection import StratifiedShuffleSplit\n",
    "\n",
    "sss = StratifiedShuffleSplit(n_splits=5,\n",
    "                               test_size=0.2, \n",
    "                               random_state=42)\n",
    "\n",
    "# CREATE MODEL with BEST PARAMS -----------------------------------------\n",
    "\n",
    "# SVM2 = SVC(C=100, \n",
    "#            gamma=0.01)\n",
    "SVM2 = SVC(C=100, \n",
    "           gamma='scale',\n",
    "           kernel='linear')\n",
    "\n",
    "\n",
    "# CROSS-VALIDATION and Stratified-Shuffle Splits (on training set) ----------------------------------\n",
    "\n",
    "from sklearn.model_selection import cross_val_score\n",
    "\n",
    "cv_scores2 = cross_val_score(SVM2, X_train_scaled, y_train, cv=sss)\n",
    "\n",
    "\n",
    "\n",
    "# COMPARE KNN Models --------------------------------------------------\n",
    "\n",
    "print(\"Mean of cross validation scores (train set) - Default SVM: {}\\n\".format(np.mean(cv_scores)))\n",
    "print(\"Mean of cross validation scores (train set)  - SVM with Best Params: {}\\n\\n\".format(np.mean(cv_scores2)))"
   ]
  },
  {
   "cell_type": "markdown",
   "id": "a629c509",
   "metadata": {},
   "source": [
    "### Confusion Matrix & Evaluation Metrics (SVM Best Params)"
   ]
  },
  {
   "cell_type": "code",
   "execution_count": 56,
   "id": "86bf2120",
   "metadata": {
    "scrolled": false
   },
   "outputs": [
    {
     "name": "stdout",
     "output_type": "stream",
     "text": [
      "Default SVM - Confusion matrix:\n",
      "\n",
      "[[76 16]\n",
      " [23 26]]\n",
      "\n",
      "SVM with Best Params - Confusion matrix:\n",
      "\n",
      "[[76 16]\n",
      " [26 23]]\n",
      "\n",
      "\n",
      "Default SVM - Evaluation Metrics\n",
      "\n",
      "                  precision    recall  f1-score   support\n",
      "\n",
      " No diabetes - 0       0.77      0.83      0.80        92\n",
      "Has diabetes - 1       0.62      0.53      0.57        49\n",
      "\n",
      "        accuracy                           0.72       141\n",
      "       macro avg       0.69      0.68      0.68       141\n",
      "    weighted avg       0.72      0.72      0.72       141\n",
      "\n",
      "\n",
      "SVM with Best Params - Evaluation Metrics\n",
      "\n",
      "                  precision    recall  f1-score   support\n",
      "\n",
      " No diabetes - 0       0.75      0.83      0.78        92\n",
      "Has diabetes - 1       0.59      0.47      0.52        49\n",
      "\n",
      "        accuracy                           0.70       141\n",
      "       macro avg       0.67      0.65      0.65       141\n",
      "    weighted avg       0.69      0.70      0.69       141\n",
      "\n"
     ]
    }
   ],
   "source": [
    "# Train model and make predictions on testing set ------------\n",
    "\n",
    "SVM2.fit(X_train_scaled, y_train)\n",
    "\n",
    "y_pred2 = SVM2.predict(X_test_scaled)\n",
    "\n",
    "\n",
    "# CONFUSION MATRIX --------------------------------------------------\n",
    "\n",
    "from sklearn.metrics import confusion_matrix\n",
    "\n",
    "confusion2 = confusion_matrix(y_test, y_pred2)\n",
    "\n",
    "print(\"Default SVM - Confusion matrix:\\n\\n{}\\n\".format(confusion))\n",
    "print(\"SVM with Best Params - Confusion matrix:\\n\\n{}\\n\\n\".format(confusion2))\n",
    "\n",
    "\n",
    "# EVALUATION METRICS ------------------------------------\n",
    "\n",
    "from sklearn.metrics import classification_report\n",
    "\n",
    "print(\"Default SVM - Evaluation Metrics\\n\")\n",
    "print(classification_report(y_test, \n",
    "                            y_pred,\n",
    "                            target_names=[\"No diabetes - 0\", \"Has diabetes - 1\"]))\n",
    "\n",
    "print(\"\\nSVM with Best Params - Evaluation Metrics\\n\")\n",
    "print(classification_report(y_test, \n",
    "                            y_pred2,\n",
    "                            target_names=[\"No diabetes - 0\", \"Has diabetes - 1\"]))"
   ]
  },
  {
   "cell_type": "markdown",
   "id": "f56276f9",
   "metadata": {},
   "source": [
    "**Notes:**\n",
    "    \n",
    "    \n",
    "It seems the SVM model with optimized parameters actually performed slightly worse. The number of False Negatives increased by 3. More False Negatives is undesirable when predicting diabetes. Untreated diabetes can destroy someone's health.\n",
    "\n",
    "\n",
    "This slight decrease in performance may be due to randomness or slight overfitting:\n",
    "    \n",
    "- The SVM model with default parameters already performing fairly well.\n",
    "    - Maybe the optimized model performing slightly worse is just due to randomness.\n",
    "\n",
    "\n",
    "\n",
    "- Maybe optimizing the parameters *slightly* overfitted the model. \n",
    "    - The optimized SVM performed slightly better on the training set with a CV score that was 0.005 higher (or 0.5% better) than the default model.\n",
    "    - It performed slightly worse than the default model on the testing set.\n",
    "    \n",
    "  "
   ]
  },
  {
   "cell_type": "markdown",
   "id": "216c8ba4",
   "metadata": {},
   "source": [
    "**Conclusions:**\n",
    "\n",
    "    \n",
    "- Of all the models done above, the optimized K Nearest Neighbors performed the best.\n",
    "\n",
    " \n",
    "- The Support Vector Machine's accuracy and ability to generalize did not improve with optimization.\n",
    "\n",
    "\n",
    "- Since a \"linear\" kernel was optimal for the SVM model, that may be a hint that a simple linear model could classify the outcomes better."
   ]
  }
 ],
 "metadata": {
  "kernelspec": {
   "display_name": "Python 3 (ipykernel)",
   "language": "python",
   "name": "python3"
  },
  "language_info": {
   "codemirror_mode": {
    "name": "ipython",
    "version": 3
   },
   "file_extension": ".py",
   "mimetype": "text/x-python",
   "name": "python",
   "nbconvert_exporter": "python",
   "pygments_lexer": "ipython3",
   "version": "3.9.7"
  }
 },
 "nbformat": 4,
 "nbformat_minor": 5
}
